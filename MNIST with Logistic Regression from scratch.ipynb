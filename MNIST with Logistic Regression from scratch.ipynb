{
 "cells": [
  {
   "cell_type": "markdown",
   "metadata": {},
   "source": [
    "# Python implementation of Logistic Regression from scratch"
   ]
  },
  {
   "cell_type": "markdown",
   "metadata": {},
   "source": [
    "_Umberto Michelucci, um@udata.science_"
   ]
  },
  {
   "cell_type": "markdown",
   "metadata": {},
   "source": [
    "### Abstract"
   ]
  },
  {
   "cell_type": "markdown",
   "metadata": {},
   "source": [
    "In this notebook I develop a complete version of Logistic Regression from scratch, without using any library (except numpy). I apply the model to a subset of MNIST data containing only the digits 1 and 2 (see the data preparation part to see how to do it) to do binary classification. For the equations and the mathematics behind the python code you can refer (to this notebook)[http://localhost:8888/notebooks/Documents/Data%20Science/Projects/Logistic-Regression-Explained/Logistic%20Regression%20from%20scratch.ipynb#] where I did a complete derivation of the mathematics behind the model. The relevant equations are reported here to make it easier for the reader to follow the code."
   ]
  },
  {
   "cell_type": "markdown",
   "metadata": {},
   "source": [
    "## Libraries"
   ]
  },
  {
   "cell_type": "code",
   "execution_count": 1,
   "metadata": {
    "collapsed": true
   },
   "outputs": [],
   "source": [
    "import numpy as np\n",
    "from sklearn.datasets import fetch_mldata\n",
    "\n",
    "%matplotlib inline\n",
    "\n",
    "import matplotlib\n",
    "import matplotlib.pyplot as plt"
   ]
  },
  {
   "cell_type": "markdown",
   "metadata": {},
   "source": [
    "## Data preparation"
   ]
  },
  {
   "cell_type": "markdown",
   "metadata": {},
   "source": [
    "To get MNIST data we use the function fetch_mldata, in the datasets package. Let's get all the dataset, and then we will select only the digits we want."
   ]
  },
  {
   "cell_type": "code",
   "execution_count": 2,
   "metadata": {},
   "outputs": [
    {
     "data": {
      "text/plain": [
       "{'COL_NAMES': ['label', 'data'],\n",
       " 'DESCR': 'mldata.org dataset: mnist-original',\n",
       " 'data': array([[0, 0, 0, ..., 0, 0, 0],\n",
       "        [0, 0, 0, ..., 0, 0, 0],\n",
       "        [0, 0, 0, ..., 0, 0, 0],\n",
       "        ..., \n",
       "        [0, 0, 0, ..., 0, 0, 0],\n",
       "        [0, 0, 0, ..., 0, 0, 0],\n",
       "        [0, 0, 0, ..., 0, 0, 0]], dtype=uint8),\n",
       " 'target': array([ 0.,  0.,  0., ...,  9.,  9.,  9.])}"
      ]
     },
     "execution_count": 2,
     "metadata": {},
     "output_type": "execute_result"
    }
   ],
   "source": [
    "mnist = fetch_mldata('MNIST original')\n",
    "mnist"
   ]
  },
  {
   "cell_type": "code",
   "execution_count": 3,
   "metadata": {
    "collapsed": true
   },
   "outputs": [],
   "source": [
    "X,y = mnist[\"data\"], mnist[\"target\"]"
   ]
  },
  {
   "cell_type": "code",
   "execution_count": 4,
   "metadata": {},
   "outputs": [
    {
     "data": {
      "text/plain": [
       "(70000, 784)"
      ]
     },
     "execution_count": 4,
     "metadata": {},
     "output_type": "execute_result"
    }
   ],
   "source": [
    "X.shape"
   ]
  },
  {
   "cell_type": "code",
   "execution_count": 5,
   "metadata": {},
   "outputs": [
    {
     "data": {
      "text/plain": [
       "(70000,)"
      ]
     },
     "execution_count": 5,
     "metadata": {},
     "output_type": "execute_result"
    }
   ],
   "source": [
    "y.shape"
   ]
  },
  {
   "cell_type": "markdown",
   "metadata": {},
   "source": [
    "To know how many digits we have we can run this simple code"
   ]
  },
  {
   "cell_type": "code",
   "execution_count": 43,
   "metadata": {},
   "outputs": [
    {
     "name": "stdout",
     "output_type": "stream",
     "text": [
      "digit 0 appear 6903 times\n",
      "digit 1 appear 7877 times\n",
      "digit 2 appear 6990 times\n",
      "digit 3 appear 7141 times\n",
      "digit 4 appear 6824 times\n",
      "digit 5 appear 6313 times\n",
      "digit 6 appear 6876 times\n",
      "digit 7 appear 7293 times\n",
      "digit 8 appear 6825 times\n",
      "digit 9 appear 6958 times\n"
     ]
    }
   ],
   "source": [
    "total = 0\n",
    "for i in range(10):\n",
    "    print (\"digit\", i, \"appear\", np.count_nonzero(y == i), \"times\")"
   ]
  },
  {
   "cell_type": "markdown",
   "metadata": {},
   "source": [
    "Note: datasets loaded by scikit-learn have a dictionary structure. \n",
    "\n",
    "- a DESCR structure describing the dataset\n",
    "- a ```data``` key containing an array with one row per instance and one column per feature\n",
    "- a ```target``` with an array with the labels\n",
    "\n",
    "we have 70000 digits available, from 0 to 9. Let's define a helper function that will allow us to visualize the digits."
   ]
  },
  {
   "cell_type": "code",
   "execution_count": 27,
   "metadata": {},
   "outputs": [
    {
     "data": {
      "image/png": "[encoded data removed]",
      "text/plain": [
       "<matplotlib.figure.Figure at 0x114517160>"
      ]
     },
     "metadata": {},
     "output_type": "display_data"
    }
   ],
   "source": [
    "def plot_digit(some_digit):\n",
    "    \n",
    "    some_digit_image = some_digit.reshape(28,28)\n",
    "\n",
    "    plt.imshow(some_digit_image, cmap = matplotlib.cm.binary, interpolation = \"nearest\")\n",
    "    plt.axis(\"off\")\n",
    "    plt.show()\n",
    "    \n",
    "plot_digit(X[36003])"
   ]
  },
  {
   "cell_type": "markdown",
   "metadata": {},
   "source": [
    "Let's check the relative label..."
   ]
  },
  {
   "cell_type": "code",
   "execution_count": 28,
   "metadata": {},
   "outputs": [
    {
     "data": {
      "text/plain": [
       "5.0"
      ]
     },
     "execution_count": 28,
     "metadata": {},
     "output_type": "execute_result"
    }
   ],
   "source": [
    "y[36003]"
   ]
  },
  {
   "cell_type": "markdown",
   "metadata": {},
   "source": [
    "### Train and test set preparation"
   ]
  },
  {
   "cell_type": "markdown",
   "metadata": {},
   "source": [
    "Let's first reduce our dataset only to 1 and 2 digits."
   ]
  },
  {
   "cell_type": "code",
   "execution_count": 32,
   "metadata": {},
   "outputs": [],
   "source": [
    "X_12 = X[np.any([y == 1,y == 2], axis = 0)]\n",
    "y_12 = y[np.any([y == 1,y == 2], axis = 0)]"
   ]
  },
  {
   "cell_type": "markdown",
   "metadata": {},
   "source": [
    "Let's check a couple of digits"
   ]
  },
  {
   "cell_type": "code",
   "execution_count": 41,
   "metadata": {},
   "outputs": [
    {
     "data": {
      "image/png": "[encoded data removed]",
      "text/plain": [
       "<matplotlib.figure.Figure at 0x11749b198>"
      ]
     },
     "metadata": {},
     "output_type": "display_data"
    },
    {
     "name": "stdout",
     "output_type": "stream",
     "text": [
      "2.0\n"
     ]
    },
    {
     "data": {
      "image/png": "[encoded data removed]",
      "text/plain": [
       "<matplotlib.figure.Figure at 0x11471ceb8>"
      ]
     },
     "metadata": {},
     "output_type": "display_data"
    },
    {
     "name": "stdout",
     "output_type": "stream",
     "text": [
      "2.0\n"
     ]
    },
    {
     "data": {
      "image/png": "[encoded data removed]",
      "text/plain": [
       "<matplotlib.figure.Figure at 0x10c8d16a0>"
      ]
     },
     "metadata": {},
     "output_type": "display_data"
    },
    {
     "name": "stdout",
     "output_type": "stream",
     "text": [
      "1.0\n"
     ]
    },
    {
     "data": {
      "image/png": "[encoded data removed]",
      "text/plain": [
       "<matplotlib.figure.Figure at 0x117629c88>"
      ]
     },
     "metadata": {},
     "output_type": "display_data"
    },
    {
     "name": "stdout",
     "output_type": "stream",
     "text": [
      "1.0\n"
     ]
    }
   ],
   "source": [
    "plot_digit(X_12[8000])\n",
    "print(y_12[8000])\n",
    "\n",
    "plot_digit(X_12[9345])\n",
    "print(y_12[9345])\n",
    "\n",
    "plot_digit(X_12[877])\n",
    "print(y_12[877])\n",
    "\n",
    "plot_digit(X_12[144])\n",
    "print(y_12[144])"
   ]
  },
  {
   "cell_type": "markdown",
   "metadata": {},
   "source": [
    "The size of our dataset is"
   ]
  },
  {
   "cell_type": "code",
   "execution_count": 42,
   "metadata": {},
   "outputs": [
    {
     "name": "stdout",
     "output_type": "stream",
     "text": [
      "(14867, 784)\n",
      "(14867,)\n"
     ]
    }
   ],
   "source": [
    "print(X_12.shape)\n",
    "print(y_12.shape)"
   ]
  },
  {
   "cell_type": "markdown",
   "metadata": {},
   "source": [
    "In our reduced dataset how many 1 and 2 do we have?"
   ]
  },
  {
   "cell_type": "code",
   "execution_count": 46,
   "metadata": {},
   "outputs": [
    {
     "name": "stdout",
     "output_type": "stream",
     "text": [
      "number of 1: 7877\n",
      "number of 2: 6990\n"
     ]
    }
   ],
   "source": [
    "print(\"number of 1:\", np.count_nonzero(y_12 == 1))\n",
    "print(\"number of 2:\", np.count_nonzero(y_12 == 2))"
   ]
  },
  {
   "cell_type": "markdown",
   "metadata": {},
   "source": []
  },
  {
   "cell_type": "code",
   "execution_count": 132,
   "metadata": {
    "collapsed": true
   },
   "outputs": [],
   "source": [
    "shuffle_index = np.random.permutation(X.shape[0])\n",
    "X, y = X[shuffle_index], y[shuffle_index]\n",
    "\n",
    "X_train, X_test, y_train, y_test = X[:60000], X[60000:], y[:60000], y[60000:]"
   ]
  },
  {
   "cell_type": "code",
   "execution_count": 133,
   "metadata": {},
   "outputs": [
    {
     "data": {
      "text/plain": [
       "array([ 6.,  8.,  3.,  4.,  2.,  6.,  9.,  0.,  2.,  0.,  7.,  3.,  2.,\n",
       "        8.,  9.,  7.,  6.,  0.,  1.,  4.,  0.,  3.,  7.,  8.,  1.,  8.,\n",
       "        7.,  6.,  4.,  5.,  2.,  6.,  7.,  5.,  3.,  6.,  8.,  6.,  6.,\n",
       "        8.,  1.,  3.,  5.,  1.,  1.,  3.,  9.,  9.,  0.,  6.,  4.,  1.,\n",
       "        7.,  7.,  1.,  6.,  5.,  2.,  7.,  3.,  8.,  7.,  8.,  5.,  7.,\n",
       "        9.,  2.,  2.,  0.,  0.,  1.,  8.,  5.,  2.,  8.,  2.,  1.,  5.,\n",
       "        9.,  3.,  9.,  1.,  6.,  1.,  9.,  3.,  6.,  8.,  9.,  2.,  4.,\n",
       "        2.,  5.,  6.,  4.,  4.,  4.,  6.,  6.,  2.])"
      ]
     },
     "execution_count": 133,
     "metadata": {},
     "output_type": "execute_result"
    }
   ],
   "source": [
    "y_train[:100]"
   ]
  },
  {
   "cell_type": "markdown",
   "metadata": {},
   "source": [
    "## Binary Classifier"
   ]
  },
  {
   "cell_type": "markdown",
   "metadata": {},
   "source": [
    "Let's consider a problem where we just want to identify a 1 or a 2 (binary classification). So let's create our datasets"
   ]
  },
  {
   "cell_type": "code",
   "execution_count": 134,
   "metadata": {},
   "outputs": [
    {
     "name": "stdout",
     "output_type": "stream",
     "text": [
      "(784, 12708)\n",
      "(1, 12708)\n",
      "(784, 2159)\n",
      "(1, 2159)\n",
      "12708\n",
      "2159\n"
     ]
    }
   ],
   "source": [
    "X_train1 = X_train[y_train == 1]/255.0\n",
    "y_train1 = y_train[y_train == 1]\n",
    "X_train2 = X_train[y_train == 2]/255.0\n",
    "y_train2 = y_train[y_train == 2]\n",
    "\n",
    "\n",
    "X_test1 = X_test[y_test == 1]/255.0\n",
    "y_test1 = y_test[y_test == 1]\n",
    "X_test2 = X_test[y_test == 2]/255.0\n",
    "y_test2 = y_test[y_test == 2]\n",
    "\n",
    "# Reshape\n",
    "\n",
    "\n",
    "X_train1 = X_train1.transpose()\n",
    "y_train1 = y_train1.reshape(1,y_train1.shape[0])\n",
    "X_train2 = X_train2.transpose()\n",
    "y_train2 = y_train2.reshape(1,y_train2.shape[0])\n",
    "\n",
    "X_test1 = X_test1.transpose()\n",
    "y_test1 = y_test1.reshape(1,y_test1.shape[0])\n",
    "X_test2 = X_test2.transpose()\n",
    "y_test2 = y_test2.reshape(1,y_test2.shape[0])\n",
    "\n",
    "#print(X_train1.shape)\n",
    "#print(X_train2.shape)\n",
    "\n",
    "# End of reshape\n",
    "\n",
    "X_train12 = np.concatenate((X_train1, X_train2), axis = 1)\n",
    "y_train12 = np.concatenate((y_train1, y_train2), axis = 1)\n",
    "\n",
    "X_test12 = np.concatenate((X_test1, X_test2), axis = 1)\n",
    "y_test12 = np.concatenate((y_test1, y_test2), axis = 1)\n",
    "\n",
    "shuffle_index = np.random.permutation(X_train12.shape[1])\n",
    "X_train12, y_train12 = X_train12[:,shuffle_index], y_train12[:,shuffle_index]\n",
    "\n",
    "shuffle_index = np.random.permutation(X_test12.shape[1])\n",
    "X_test12, y_test12 = X_test12[:,shuffle_index], y_test12[:,shuffle_index]\n",
    "\n",
    "\n",
    "\n",
    "print(X_train12.shape)\n",
    "print(y_train12.shape)\n",
    "print(X_test12.shape)\n",
    "print(y_test12.shape)\n",
    "\n",
    "dim_train = X_train12.shape[1]\n",
    "dim_test = X_test12.shape[1]\n",
    "\n",
    "print(dim_train)\n",
    "print(dim_test)"
   ]
  },
  {
   "cell_type": "markdown",
   "metadata": {},
   "source": [
    "We will need to rescale our lables. Remember we will compare them in the cost function with 0 and 1 (proabilities) and therefore our class labels must be 0 and 1, not 1 and 2. So the following step take care of it."
   ]
  },
  {
   "cell_type": "code",
   "execution_count": 135,
   "metadata": {
    "collapsed": true
   },
   "outputs": [],
   "source": [
    "np.place(y_train12, y_train12 == 1, 0)\n",
    "np.place(y_train12, y_train12 == 2, 1)\n",
    "\n",
    "np.place(y_test12, y_test12 == 1, 0)\n",
    "np.place(y_test12, y_test12 == 2, 1)\n",
    "\n",
    "#y_train12 -= 1\n",
    "#y_test12 -= 1"
   ]
  },
  {
   "cell_type": "code",
   "execution_count": 136,
   "metadata": {},
   "outputs": [
    {
     "name": "stdout",
     "output_type": "stream",
     "text": [
      "(784, 6756)\n",
      "(784, 12708)\n"
     ]
    },
    {
     "data": {
      "image/png": "[encoded data removed]",
      "text/plain": [
       "<matplotlib.figure.Figure at 0x11e07c7b8>"
      ]
     },
     "metadata": {},
     "output_type": "display_data"
    },
    {
     "name": "stdout",
     "output_type": "stream",
     "text": [
      "[ 0.]\n"
     ]
    },
    {
     "data": {
      "image/png": "[encoded data removed]",
      "text/plain": [
       "<matplotlib.figure.Figure at 0x1286b8da0>"
      ]
     },
     "metadata": {},
     "output_type": "display_data"
    },
    {
     "name": "stdout",
     "output_type": "stream",
     "text": [
      "[ 0.]\n"
     ]
    },
    {
     "data": {
      "image/png": "[encoded data removed]",
      "text/plain": [
       "<matplotlib.figure.Figure at 0x128defd68>"
      ]
     },
     "metadata": {},
     "output_type": "display_data"
    },
    {
     "name": "stdout",
     "output_type": "stream",
     "text": [
      "[ 1.]\n"
     ]
    },
    {
     "data": {
      "image/png": "[encoded data removed]",
      "text/plain": [
       "<matplotlib.figure.Figure at 0x128909cc0>"
      ]
     },
     "metadata": {},
     "output_type": "display_data"
    },
    {
     "name": "stdout",
     "output_type": "stream",
     "text": [
      "[ 0.]\n"
     ]
    }
   ],
   "source": [
    "print(X_train1.shape)\n",
    "print(X_train12.shape)\n",
    "\n",
    "plot_digit(X_train12[:,1005])\n",
    "print(y_train12[:,1005])\n",
    "plot_digit(X_train12[:,1432])\n",
    "print(y_train12[:,1432])\n",
    "plot_digit(X_train12[:,456])\n",
    "print(y_train12[:,456])\n",
    "plot_digit(X_train12[:,567])\n",
    "print(y_train12[:,567])"
   ]
  },
  {
   "cell_type": "markdown",
   "metadata": {},
   "source": [
    "## Helper functions"
   ]
  },
  {
   "cell_type": "code",
   "execution_count": 137,
   "metadata": {
    "collapsed": true
   },
   "outputs": [],
   "source": [
    "def sigmoid(z):\n",
    "    s = 1.0 / (1.0 + np.exp(-z))\n",
    "    \n",
    "    return s"
   ]
  },
  {
   "cell_type": "code",
   "execution_count": 138,
   "metadata": {},
   "outputs": [
    {
     "name": "stdout",
     "output_type": "stream",
     "text": [
      "sigmoid([0, 2]) = [ 0.5         0.88079708]\n"
     ]
    }
   ],
   "source": [
    "print (\"sigmoid([0, 2]) = \" + str(sigmoid(np.array([0,2]))))"
   ]
  },
  {
   "cell_type": "code",
   "execution_count": 139,
   "metadata": {
    "collapsed": true
   },
   "outputs": [],
   "source": [
    "def initialize(dim):\n",
    "    w = np.zeros((dim,1))\n",
    "    b = 0\n",
    "    \n",
    "    assert (w.shape == (dim,1))\n",
    "    assert (isinstance(b, float) or isinstance(b,int))\n",
    "    \n",
    "    return w,b"
   ]
  },
  {
   "cell_type": "code",
   "execution_count": 140,
   "metadata": {},
   "outputs": [
    {
     "name": "stdout",
     "output_type": "stream",
     "text": [
      "[[ 0.]\n",
      " [ 0.]]\n",
      "0\n"
     ]
    }
   ],
   "source": [
    "w,b = initialize(2)\n",
    "print(w)\n",
    "print(b)"
   ]
  },
  {
   "cell_type": "markdown",
   "metadata": {},
   "source": [
    "For our input our $w$ will have dimensions (784,1)"
   ]
  },
  {
   "cell_type": "code",
   "execution_count": 141,
   "metadata": {
    "collapsed": true
   },
   "outputs": [],
   "source": [
    "def propagate(w, b, X, Y):\n",
    "    \n",
    "    \n",
    "    m = X.shape[1]\n",
    "    \n",
    "    z = np.dot(w.T,X)+b\n",
    "    \n",
    "    #print(\"A big count \",np.count_nonzero(z > 1000))\n",
    "    A = sigmoid(z)\n",
    "\n",
    "    \n",
    "    #print(X.shape, Y.shape, A.shape)\n",
    "\n",
    "    \n",
    "    cost = -1.0/m*np.sum(Y*np.log(A)+(1.0-Y)*np.log(1.0-A))\n",
    "    \n",
    "    \n",
    "    dw = 1.0/m*np.dot(X, (A-Y).T)\n",
    "    db = 1.0/m*np.sum(A-Y)\n",
    "    \n",
    "    \n",
    "    #print (\"z[5] is equal to \", z[:,5])\n",
    "    #print (\"A[5] is equal to \", A[:,5])\n",
    "    #print (\"w is equal to \", w)\n",
    "    #print (\"sum(w) is equal to \", np.sum(w))\n",
    "    \n",
    "    #print(\"dw == 0 \",np.count_nonzero(dw == 0))\n",
    "    \n",
    "    assert (dw.shape == w.shape)\n",
    "    assert (db.dtype == float)\n",
    "    \n",
    "    cost = np.squeeze(cost)\n",
    "    assert (cost.shape == ())\n",
    "    \n",
    "    grads = {\"dw\": dw, \n",
    "             \"db\":db}\n",
    "    \n",
    "    return grads, cost"
   ]
  },
  {
   "cell_type": "code",
   "execution_count": 142,
   "metadata": {
    "collapsed": true
   },
   "outputs": [],
   "source": [
    "def optimize(w, b, X, Y, num_iterations, learning_rate, print_cost = False):\n",
    "    \n",
    "    costs = []\n",
    "    \n",
    "    for i in range(num_iterations):\n",
    "        \n",
    "        grads, cost = propagate(w, b, X, Y)\n",
    "        \n",
    "        dw = grads[\"dw\"]\n",
    "        db = grads[\"db\"]\n",
    "        \n",
    "        w = w - learning_rate*dw\n",
    "        b = b - learning_rate*db\n",
    "        \n",
    "        #print(w)\n",
    "        \n",
    "        if i % 100 == 0:\n",
    "            costs.append(cost)\n",
    "            \n",
    "        if print_cost and i % 100 == 0:\n",
    "            print (\"Cost (iteration %i) = %f\" %(i, cost))\n",
    "            \n",
    "    grads = {\"dw\": dw, \"db\": db}\n",
    "    params = {\"w\": w, \"b\": b}\n",
    "        \n",
    "    return params, grads, costs"
   ]
  },
  {
   "cell_type": "code",
   "execution_count": 143,
   "metadata": {
    "collapsed": true
   },
   "outputs": [],
   "source": [
    "def predict (w, b, X):\n",
    "    m = X.shape[1]\n",
    "    Y_prediction = np.zeros((1,m))\n",
    "    w = w.reshape(X.shape[0],1)\n",
    "    \n",
    "    A = sigmoid (np.dot(w.T, X)+b)\n",
    "    \n",
    "    for i in range(A.shape[1]):\n",
    "        if (A[:,i] > 0.5): \n",
    "            Y_prediction[:, i] = 1\n",
    "        elif (A[:,i] <= 0.5):\n",
    "            Y_prediction[:, i] = 0\n",
    "            \n",
    "    assert (Y_prediction.shape == (1,m))\n",
    "    \n",
    "    return Y_prediction\n",
    "        "
   ]
  },
  {
   "cell_type": "markdown",
   "metadata": {},
   "source": [
    "## Model"
   ]
  },
  {
   "cell_type": "code",
   "execution_count": 144,
   "metadata": {
    "collapsed": true
   },
   "outputs": [],
   "source": [
    "def model (X_train, Y_train, X_test, Y_test, num_iterations = 1000, learning_rate = 0.5, print_cost = False):\n",
    "    \n",
    "    #print(\"Dimension for init \", X_train.shape[0])\n",
    "    w, b = initialize(X_train.shape[0])\n",
    "    \n",
    "    parameters, grads, costs = optimize(w, b, X_train, Y_train, num_iterations, learning_rate, print_cost)\n",
    "    \n",
    "    w = parameters[\"w\"]\n",
    "    b = parameters[\"b\"]\n",
    "    \n",
    "    Y_prediction_test = predict (w, b, X_test)\n",
    "    Y_prediction_train = predict (w, b, X_train)\n",
    "    \n",
    "    train_accuracy = 100.0 - np.mean(np.abs(Y_prediction_train-Y_train)*100.0)\n",
    "    test_accuracy = 100.0 -np.mean(np.abs(Y_prediction_test-Y_test)*100.0)\n",
    "    \n",
    "    d = {\"costs\": costs,\n",
    "        \"Y_prediction_test\": Y_prediction_test,\n",
    "        \"Y_prediction_train\": Y_prediction_train,\n",
    "         \"w\": w,\n",
    "         \"b\": b,\n",
    "         \"learning_rate\": learning_rate,\n",
    "         \"num_iterations\": num_iterations}\n",
    "    \n",
    "    print (\"Accuarcy Test: \",  test_accuracy)\n",
    "    print (\"Accuracy Train: \", train_accuracy)\n",
    "    \n",
    "    return d"
   ]
  },
  {
   "cell_type": "code",
   "execution_count": 126,
   "metadata": {},
   "outputs": [
    {
     "name": "stdout",
     "output_type": "stream",
     "text": [
      "(784, 12795)\n"
     ]
    }
   ],
   "source": [
    "print(X_train12.shape)"
   ]
  },
  {
   "cell_type": "code",
   "execution_count": 145,
   "metadata": {},
   "outputs": [
    {
     "name": "stdout",
     "output_type": "stream",
     "text": [
      "Cost (iteration 0) = 0.693147\n",
      "Cost (iteration 100) = 0.108168\n",
      "Cost (iteration 200) = 0.078617\n",
      "Cost (iteration 300) = 0.066479\n",
      "Cost (iteration 400) = 0.059552\n",
      "Cost (iteration 500) = 0.054944\n",
      "Cost (iteration 600) = 0.051594\n",
      "Cost (iteration 700) = 0.049012\n",
      "Cost (iteration 800) = 0.046939\n",
      "Cost (iteration 900) = 0.045226\n",
      "Cost (iteration 1000) = 0.043776\n",
      "Cost (iteration 1100) = 0.042528\n",
      "Cost (iteration 1200) = 0.041437\n",
      "Cost (iteration 1300) = 0.040473\n",
      "Cost (iteration 1400) = 0.039612\n",
      "Cost (iteration 1500) = 0.038837\n",
      "Cost (iteration 1600) = 0.038134\n",
      "Cost (iteration 1700) = 0.037493\n",
      "Cost (iteration 1800) = 0.036905\n",
      "Cost (iteration 1900) = 0.036363\n",
      "Cost (iteration 2000) = 0.035861\n",
      "Cost (iteration 2100) = 0.035394\n",
      "Cost (iteration 2200) = 0.034959\n",
      "Cost (iteration 2300) = 0.034552\n",
      "Cost (iteration 2400) = 0.034170\n",
      "Cost (iteration 2500) = 0.033810\n",
      "Cost (iteration 2600) = 0.033471\n",
      "Cost (iteration 2700) = 0.033151\n",
      "Cost (iteration 2800) = 0.032847\n",
      "Cost (iteration 2900) = 0.032559\n",
      "Cost (iteration 3000) = 0.032285\n",
      "Cost (iteration 3100) = 0.032025\n",
      "Cost (iteration 3200) = 0.031776\n",
      "Cost (iteration 3300) = 0.031538\n",
      "Cost (iteration 3400) = 0.031311\n",
      "Cost (iteration 3500) = 0.031093\n",
      "Cost (iteration 3600) = 0.030884\n",
      "Cost (iteration 3700) = 0.030684\n",
      "Cost (iteration 3800) = 0.030491\n",
      "Cost (iteration 3900) = 0.030306\n",
      "Accuarcy Test:  99.0273274664\n",
      "Accuracy Train:  99.095058231\n"
     ]
    }
   ],
   "source": [
    "d = model (X_train12, y_train12, X_test12, y_test12, num_iterations = 4000, learning_rate = 0.05, print_cost = True)"
   ]
  },
  {
   "cell_type": "markdown",
   "metadata": {},
   "source": [
    "## Cost function vs. number of iterations"
   ]
  },
  {
   "cell_type": "code",
   "execution_count": 173,
   "metadata": {},
   "outputs": [
    {
     "data": {
      "image/png": "[encoded data removed]",
      "text/plain": [
       "<matplotlib.figure.Figure at 0x12095e7b8>"
      ]
     },
     "metadata": {},
     "output_type": "display_data"
    }
   ],
   "source": [
    "plt.plot(d[\"costs\"])\n",
    "plt.xlim([1,40])\n",
    "plt.ylim([0,0.12])\n",
    "plt.title(\"Cost Function\",fontsize = 15)\n",
    "plt.xlabel(\"Number of iterations x 100\", fontsize = 14)\n",
    "plt.ylabel(\"$J(w,b)$\", fontsize = 17)\n",
    "plt.show()"
   ]
  },
  {
   "cell_type": "markdown",
   "metadata": {},
   "source": [
    "## Logistic Regression with sklearn"
   ]
  },
  {
   "cell_type": "code",
   "execution_count": 97,
   "metadata": {
    "collapsed": true
   },
   "outputs": [],
   "source": [
    "from sklearn.linear_model import LogisticRegression\n",
    "\n",
    "logistic = LogisticRegression()"
   ]
  },
  {
   "cell_type": "code",
   "execution_count": 102,
   "metadata": {},
   "outputs": [
    {
     "name": "stdout",
     "output_type": "stream",
     "text": [
      "(12795, 784)\n",
      "(12795,)\n"
     ]
    },
    {
     "data": {
      "text/plain": [
       "LogisticRegression(C=1.0, class_weight=None, dual=False, fit_intercept=True,\n",
       "          intercept_scaling=1, max_iter=100, multi_class='ovr', n_jobs=1,\n",
       "          penalty='l2', random_state=None, solver='liblinear', tol=0.0001,\n",
       "          verbose=0, warm_start=False)"
      ]
     },
     "execution_count": 102,
     "metadata": {},
     "output_type": "execute_result"
    }
   ],
   "source": [
    "XX = X_train12.T\n",
    "YY = y_train12.T.ravel()\n",
    "\n",
    "print(XX.shape)\n",
    "print(YY.shape)\n",
    "\n",
    "logistic.fit(XX,YY)"
   ]
  },
  {
   "cell_type": "code",
   "execution_count": 106,
   "metadata": {},
   "outputs": [
    {
     "name": "stdout",
     "output_type": "stream",
     "text": [
      "Predicted [ 1.  1.  1. ...,  2.  2.  1.], real class [ 1.  1.  1. ...,  2.  2.  1.]\n"
     ]
    }
   ],
   "source": [
    "print(\"Predicted %s, real class %s\" %(logistic.predict(XX), YY))"
   ]
  },
  {
   "cell_type": "code",
   "execution_count": 107,
   "metadata": {},
   "outputs": [
    {
     "data": {
      "text/plain": [
       "0.99609222352481441"
      ]
     },
     "execution_count": 107,
     "metadata": {},
     "output_type": "execute_result"
    }
   ],
   "source": [
    "logistic.score(XX,YY)"
   ]
  },
  {
   "cell_type": "code",
   "execution_count": 108,
   "metadata": {},
   "outputs": [
    {
     "data": {
      "text/plain": [
       "0.9932432432432432"
      ]
     },
     "execution_count": 108,
     "metadata": {},
     "output_type": "execute_result"
    }
   ],
   "source": [
    "XXT = X_test12.T\n",
    "YYT = y_test12.T.ravel()\n",
    "\n",
    "logistic.score(XXT,YYT)"
   ]
  }
 ],
 "metadata": {
  "kernelspec": {
   "display_name": "Python 3",
   "language": "python",
   "name": "python3"
  },
  "language_info": {
   "codemirror_mode": {
    "name": "ipython",
    "version": 3
   },
   "file_extension": ".py",
   "mimetype": "text/x-python",
   "name": "python",
   "nbconvert_exporter": "python",
   "pygments_lexer": "ipython3",
   "version": "3.5.3"
  }
 },
 "nbformat": 4,
 "nbformat_minor": 2
}
